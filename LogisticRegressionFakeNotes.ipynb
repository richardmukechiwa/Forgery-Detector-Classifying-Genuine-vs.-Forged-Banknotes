{
 "cells": [
  {
   "cell_type": "markdown",
   "id": "d0d51943-ba5c-4dad-9ddb-3dc004ff05a5",
   "metadata": {},
   "source": [
    "## **Import Libraries**"
   ]
  },
  {
   "cell_type": "code",
   "execution_count": 310,
   "id": "e385c195-b73f-4306-bd45-0e59bd585ce4",
   "metadata": {},
   "outputs": [],
   "source": [
    "# imort libraries\n",
    "import arff\n",
    "import pandas as pd\n",
    "import numpy as np\n",
    "import matplotlib.pyplot as plt\n",
    "import seaborn as sns\n",
    "import plotly.express as px\n",
    "import warnings\n",
    "warnings.filterwarnings('ignore', category = FutureWarning)\n",
    "import matplotlib\n",
    "matplotlib.rcParams['figure.figsize'] = (12,8)\n",
    "from sklearn.metrics import mean_absolute_error, r2_score, accuracy_score, classification_report, confusion_matrix\n",
    "from sklearn.linear_model import LogisticRegression\n",
    "from sklearn.model_selection import  train_test_split\n",
    "from sklearn.preprocessing import StandardScaler"
   ]
  },
  {
   "cell_type": "markdown",
   "id": "a0f81e92-51c1-4521-92a6-8cc786107014",
   "metadata": {},
   "source": [
    "## **Load Data**"
   ]
  },
  {
   "cell_type": "code",
   "execution_count": 170,
   "id": "726effa5-858f-4093-ba5f-2372103cf1d3",
   "metadata": {},
   "outputs": [
    {
     "name": "stdout",
     "output_type": "stream",
     "text": [
      "        V1      V2      V3       V4 Class\n",
      "0  3.62160  8.6661 -2.8073 -0.44699     1\n",
      "1  4.54590  8.1674 -2.4586 -1.46210     1\n",
      "2  3.86600 -2.6383  1.9242  0.10645     1\n",
      "3  3.45660  9.5228 -4.0112 -3.59440     1\n",
      "4  0.32924 -4.4552  4.5718 -0.98880     1\n"
     ]
    }
   ],
   "source": [
    "# Load the ARFF file\n",
    "with open('php50jXam.arff', 'r') as f:\n",
    "    data = arff.load(f)\n",
    "\n",
    "# Convert to a pandas DataFrame\n",
    "df = pd.DataFrame(data['data'], columns=[attr[0] for attr in data['attributes']])\n",
    "\n",
    "# Display the DataFrame\n",
    "print(df.head())"
   ]
  },
  {
   "cell_type": "markdown",
   "id": "9ddd0f7f-c28e-4553-8af9-99485f1b7e5c",
   "metadata": {},
   "source": [
    "## **Data Cleaning**"
   ]
  },
  {
   "cell_type": "code",
   "execution_count": 172,
   "id": "7b0051d7-ed0f-400f-9f23-0f375a7105d3",
   "metadata": {},
   "outputs": [
    {
     "data": {
      "text/plain": [
       "(1372, 5)"
      ]
     },
     "execution_count": 172,
     "metadata": {},
     "output_type": "execute_result"
    }
   ],
   "source": [
    "# check the shape\n",
    "df.shape"
   ]
  },
  {
   "cell_type": "code",
   "execution_count": 173,
   "id": "4094ce1a-03e3-40a2-bf79-8dbd1c68cb8a",
   "metadata": {},
   "outputs": [
    {
     "name": "stdout",
     "output_type": "stream",
     "text": [
      "<class 'pandas.core.frame.DataFrame'>\n",
      "RangeIndex: 1372 entries, 0 to 1371\n",
      "Data columns (total 5 columns):\n",
      " #   Column  Non-Null Count  Dtype  \n",
      "---  ------  --------------  -----  \n",
      " 0   V1      1372 non-null   float64\n",
      " 1   V2      1372 non-null   float64\n",
      " 2   V3      1372 non-null   float64\n",
      " 3   V4      1372 non-null   float64\n",
      " 4   Class   1372 non-null   object \n",
      "dtypes: float64(4), object(1)\n",
      "memory usage: 53.7+ KB\n"
     ]
    }
   ],
   "source": [
    "#check info\n",
    "df.info()"
   ]
  },
  {
   "cell_type": "markdown",
   "id": "2702f54b-2ff7-4c74-8a63-6b90fca72b6e",
   "metadata": {},
   "source": [
    "## **Exploratory Data Analysis**"
   ]
  },
  {
   "cell_type": "code",
   "execution_count": 176,
   "id": "991f5a08-c2b5-4145-b633-f3d6094ef542",
   "metadata": {},
   "outputs": [
    {
     "data": {
      "text/html": [
       "<div>\n",
       "<style scoped>\n",
       "    .dataframe tbody tr th:only-of-type {\n",
       "        vertical-align: middle;\n",
       "    }\n",
       "\n",
       "    .dataframe tbody tr th {\n",
       "        vertical-align: top;\n",
       "    }\n",
       "\n",
       "    .dataframe thead th {\n",
       "        text-align: right;\n",
       "    }\n",
       "</style>\n",
       "<table border=\"1\" class=\"dataframe\">\n",
       "  <thead>\n",
       "    <tr style=\"text-align: right;\">\n",
       "      <th></th>\n",
       "      <th>V1</th>\n",
       "      <th>V2</th>\n",
       "      <th>V3</th>\n",
       "      <th>V4</th>\n",
       "    </tr>\n",
       "  </thead>\n",
       "  <tbody>\n",
       "    <tr>\n",
       "      <th>count</th>\n",
       "      <td>1372.000000</td>\n",
       "      <td>1372.000000</td>\n",
       "      <td>1372.000000</td>\n",
       "      <td>1372.000000</td>\n",
       "    </tr>\n",
       "    <tr>\n",
       "      <th>mean</th>\n",
       "      <td>0.433735</td>\n",
       "      <td>1.922353</td>\n",
       "      <td>1.397627</td>\n",
       "      <td>-1.191657</td>\n",
       "    </tr>\n",
       "    <tr>\n",
       "      <th>std</th>\n",
       "      <td>2.842763</td>\n",
       "      <td>5.869047</td>\n",
       "      <td>4.310030</td>\n",
       "      <td>2.101013</td>\n",
       "    </tr>\n",
       "    <tr>\n",
       "      <th>min</th>\n",
       "      <td>-7.042100</td>\n",
       "      <td>-13.773100</td>\n",
       "      <td>-5.286100</td>\n",
       "      <td>-8.548200</td>\n",
       "    </tr>\n",
       "    <tr>\n",
       "      <th>25%</th>\n",
       "      <td>-1.773000</td>\n",
       "      <td>-1.708200</td>\n",
       "      <td>-1.574975</td>\n",
       "      <td>-2.413450</td>\n",
       "    </tr>\n",
       "    <tr>\n",
       "      <th>50%</th>\n",
       "      <td>0.496180</td>\n",
       "      <td>2.319650</td>\n",
       "      <td>0.616630</td>\n",
       "      <td>-0.586650</td>\n",
       "    </tr>\n",
       "    <tr>\n",
       "      <th>75%</th>\n",
       "      <td>2.821475</td>\n",
       "      <td>6.814625</td>\n",
       "      <td>3.179250</td>\n",
       "      <td>0.394810</td>\n",
       "    </tr>\n",
       "    <tr>\n",
       "      <th>max</th>\n",
       "      <td>6.824800</td>\n",
       "      <td>12.951600</td>\n",
       "      <td>17.927400</td>\n",
       "      <td>2.449500</td>\n",
       "    </tr>\n",
       "  </tbody>\n",
       "</table>\n",
       "</div>"
      ],
      "text/plain": [
       "                V1           V2           V3           V4\n",
       "count  1372.000000  1372.000000  1372.000000  1372.000000\n",
       "mean      0.433735     1.922353     1.397627    -1.191657\n",
       "std       2.842763     5.869047     4.310030     2.101013\n",
       "min      -7.042100   -13.773100    -5.286100    -8.548200\n",
       "25%      -1.773000    -1.708200    -1.574975    -2.413450\n",
       "50%       0.496180     2.319650     0.616630    -0.586650\n",
       "75%       2.821475     6.814625     3.179250     0.394810\n",
       "max       6.824800    12.951600    17.927400     2.449500"
      ]
     },
     "execution_count": 176,
     "metadata": {},
     "output_type": "execute_result"
    }
   ],
   "source": [
    "#descriptive statistics\n",
    "df.describe()\n"
   ]
  },
  {
   "cell_type": "code",
   "execution_count": 231,
   "id": "e41e2c23-edd0-45c3-a735-0b7a37babda8",
   "metadata": {},
   "outputs": [
    {
     "data": {
      "image/png": "[encoded data removed]",
      "text/plain": [
       "<Figure size 1200x800 with 1 Axes>"
      ]
     },
     "metadata": {},
     "output_type": "display_data"
    }
   ],
   "source": [
    "#distribution of the Class where '1' is for genuine and '2' is for forged\n",
    "sns.histplot(df, x = 'Class', hue = 'Class', bins = 2);"
   ]
  },
  {
   "cell_type": "code",
   "execution_count": 305,
   "id": "d63555f2-b684-491d-8881-3a12e9f30616",
   "metadata": {},
   "outputs": [
    {
     "data": {
      "image/png": "[encoded data removed]",
      "text/plain": [
       "<Figure size 1500x800 with 4 Axes>"
      ]
     },
     "metadata": {},
     "output_type": "display_data"
    }
   ],
   "source": [
    "#Distribution of features group by class\n",
    "fig, ax = plt.subplots(2, 2 , figsize = (15, 8))\n",
    "\n",
    "sns.histplot(df,  x = 'V1', ax = ax[0,0], hue = 'Class', fill = False )\n",
    "\n",
    "sns.histplot(df, x = 'V2' ,ax = ax[0,1], hue = 'Class', fill = False)\n",
    "sns.histplot(df,  x = 'V3', ax = ax[1,0], hue = 'Class', fill= False)\n",
    "sns.histplot(df, x = 'V4' , ax = ax[1,1], hue = 'Class', fill= False)\n",
    "sns.set_style('darkgrid')"
   ]
  },
  {
   "cell_type": "markdown",
   "id": "7ba96741-3bca-4593-9d57-98064c66b955",
   "metadata": {},
   "source": [
    "## **Data Preprocessing**"
   ]
  },
  {
   "cell_type": "code",
   "execution_count": 179,
   "id": "610e9e0c-3748-4f2e-9c18-0b2cf5f597ae",
   "metadata": {},
   "outputs": [
    {
     "data": {
      "text/plain": [
       "array([[ 1.12180565,  1.14945512, -0.97597007,  0.35456135],\n",
       "       [ 1.44706568,  1.06445293, -0.89503626, -0.12876744],\n",
       "       [ 1.20780971, -0.77735215,  0.12221838,  0.61807317],\n",
       "       ...,\n",
       "       [-1.47235682, -2.62164576,  3.75901744, -0.75488418],\n",
       "       [-1.40669251, -1.75647104,  2.552043  , -0.04315848],\n",
       "       [-1.04712236, -0.43982168,  0.29861555,  1.1364645 ]])"
      ]
     },
     "execution_count": 179,
     "metadata": {},
     "output_type": "execute_result"
    }
   ],
   "source": [
    "#Insantiate the Standardscaler\n",
    "scaler = StandardScaler()\n",
    "# fit the scaler\n",
    "scaler.fit_transform(df[['V1', 'V2', 'V3', 'V4']])"
   ]
  },
  {
   "cell_type": "markdown",
   "id": "a028cbe4-c8da-4e65-b178-6e40fc09a6f5",
   "metadata": {},
   "source": [
    "## Split Data"
   ]
  },
  {
   "cell_type": "code",
   "execution_count": 181,
   "id": "053ef7f3-5399-46f9-b63a-4e5c3b124b1f",
   "metadata": {},
   "outputs": [],
   "source": [
    "# splitting target and features variables  Class (target)  '1' for genuine and '2' for forged\n",
    "target = 'Class'\n",
    "features = df.drop(columns= target)\n",
    "y = df[target]\n",
    "X = features\n"
   ]
  },
  {
   "cell_type": "code",
   "execution_count": 182,
   "id": "152dc17a-c1ad-44a1-b37e-60fbdb9fde7a",
   "metadata": {},
   "outputs": [
    {
     "name": "stdout",
     "output_type": "stream",
     "text": [
      "X_train is (960, 4)\n",
      "X_test is (412, 4)\n",
      "y_train is (960,)\n",
      "y_test is (412,)\n"
     ]
    }
   ],
   "source": [
    "X_train, X_test, y_train, y_test = train_test_split(X, y, test_size = 0.30, random_state = 42)\n",
    "print(\"X_train is\", X_train.shape)\n",
    "print(\"X_test is\", X_test.shape)\n",
    "print(\"y_train is\", y_train.shape)\n",
    "print(\"y_test is\", y_test.shape)"
   ]
  },
  {
   "cell_type": "markdown",
   "id": "f9f5732f-deac-4e94-8062-f21f1046dd7c",
   "metadata": {},
   "source": [
    "## **Training The LogisticRegression model**"
   ]
  },
  {
   "cell_type": "code",
   "execution_count": 184,
   "id": "0e0cdc7b-f9aa-4f7b-a33b-4f4da69bd8b4",
   "metadata": {},
   "outputs": [
    {
     "data": {
      "text/html": [
       "<style>#sk-container-id-2 {color: black;background-color: white;}#sk-container-id-2 pre{padding: 0;}#sk-container-id-2 div.sk-toggleable {background-color: white;}#sk-container-id-2 label.sk-toggleable__label {cursor: pointer;display: block;width: 100%;margin-bottom: 0;padding: 0.3em;box-sizing: border-box;text-align: center;}#sk-container-id-2 label.sk-toggleable__label-arrow:before {content: \"▸\";float: left;margin-right: 0.25em;color: #696969;}#sk-container-id-2 label.sk-toggleable__label-arrow:hover:before {color: black;}#sk-container-id-2 div.sk-estimator:hover label.sk-toggleable__label-arrow:before {color: black;}#sk-container-id-2 div.sk-toggleable__content {max-height: 0;max-width: 0;overflow: hidden;text-align: left;background-color: #f0f8ff;}#sk-container-id-2 div.sk-toggleable__content pre {margin: 0.2em;color: black;border-radius: 0.25em;background-color: #f0f8ff;}#sk-container-id-2 input.sk-toggleable__control:checked~div.sk-toggleable__content {max-height: 200px;max-width: 100%;overflow: auto;}#sk-container-id-2 input.sk-toggleable__control:checked~label.sk-toggleable__label-arrow:before {content: \"▾\";}#sk-container-id-2 div.sk-estimator input.sk-toggleable__control:checked~label.sk-toggleable__label {background-color: #d4ebff;}#sk-container-id-2 div.sk-label input.sk-toggleable__control:checked~label.sk-toggleable__label {background-color: #d4ebff;}#sk-container-id-2 input.sk-hidden--visually {border: 0;clip: rect(1px 1px 1px 1px);clip: rect(1px, 1px, 1px, 1px);height: 1px;margin: -1px;overflow: hidden;padding: 0;position: absolute;width: 1px;}#sk-container-id-2 div.sk-estimator {font-family: monospace;background-color: #f0f8ff;border: 1px dotted black;border-radius: 0.25em;box-sizing: border-box;margin-bottom: 0.5em;}#sk-container-id-2 div.sk-estimator:hover {background-color: #d4ebff;}#sk-container-id-2 div.sk-parallel-item::after {content: \"\";width: 100%;border-bottom: 1px solid gray;flex-grow: 1;}#sk-container-id-2 div.sk-label:hover label.sk-toggleable__label {background-color: #d4ebff;}#sk-container-id-2 div.sk-serial::before {content: \"\";position: absolute;border-left: 1px solid gray;box-sizing: border-box;top: 0;bottom: 0;left: 50%;z-index: 0;}#sk-container-id-2 div.sk-serial {display: flex;flex-direction: column;align-items: center;background-color: white;padding-right: 0.2em;padding-left: 0.2em;position: relative;}#sk-container-id-2 div.sk-item {position: relative;z-index: 1;}#sk-container-id-2 div.sk-parallel {display: flex;align-items: stretch;justify-content: center;background-color: white;position: relative;}#sk-container-id-2 div.sk-item::before, #sk-container-id-2 div.sk-parallel-item::before {content: \"\";position: absolute;border-left: 1px solid gray;box-sizing: border-box;top: 0;bottom: 0;left: 50%;z-index: -1;}#sk-container-id-2 div.sk-parallel-item {display: flex;flex-direction: column;z-index: 1;position: relative;background-color: white;}#sk-container-id-2 div.sk-parallel-item:first-child::after {align-self: flex-end;width: 50%;}#sk-container-id-2 div.sk-parallel-item:last-child::after {align-self: flex-start;width: 50%;}#sk-container-id-2 div.sk-parallel-item:only-child::after {width: 0;}#sk-container-id-2 div.sk-dashed-wrapped {border: 1px dashed gray;margin: 0 0.4em 0.5em 0.4em;box-sizing: border-box;padding-bottom: 0.4em;background-color: white;}#sk-container-id-2 div.sk-label label {font-family: monospace;font-weight: bold;display: inline-block;line-height: 1.2em;}#sk-container-id-2 div.sk-label-container {text-align: center;}#sk-container-id-2 div.sk-container {/* jupyter's `normalize.less` sets `[hidden] { display: none; }` but bootstrap.min.css set `[hidden] { display: none !important; }` so we also need the `!important` here to be able to override the default hidden behavior on the sphinx rendered scikit-learn.org. See: https://github.com/scikit-learn/scikit-learn/issues/21755 */display: inline-block !important;position: relative;}#sk-container-id-2 div.sk-text-repr-fallback {display: none;}</style><div id=\"sk-container-id-2\" class=\"sk-top-container\"><div class=\"sk-text-repr-fallback\"><pre>LogisticRegression()</pre><b>In a Jupyter environment, please rerun this cell to show the HTML representation or trust the notebook. <br />On GitHub, the HTML representation is unable to render, please try loading this page with nbviewer.org.</b></div><div class=\"sk-container\" hidden><div class=\"sk-item\"><div class=\"sk-estimator sk-toggleable\"><input class=\"sk-toggleable__control sk-hidden--visually\" id=\"sk-estimator-id-2\" type=\"checkbox\" checked><label for=\"sk-estimator-id-2\" class=\"sk-toggleable__label sk-toggleable__label-arrow\">LogisticRegression</label><div class=\"sk-toggleable__content\"><pre>LogisticRegression()</pre></div></div></div></div></div>"
      ],
      "text/plain": [
       "LogisticRegression()"
      ]
     },
     "execution_count": 184,
     "metadata": {},
     "output_type": "execute_result"
    }
   ],
   "source": [
    "# instantiate the Logistiic Regression model\n",
    "log_model = LogisticRegression()\n",
    "# fit the model\n",
    "log_model.fit(X_train, y_train)"
   ]
  },
  {
   "cell_type": "code",
   "execution_count": 185,
   "id": "38c66689-2f42-4a13-bcf8-9a2193610082",
   "metadata": {},
   "outputs": [
    {
     "data": {
      "text/plain": [
       "0.9916666666666667"
      ]
     },
     "execution_count": 185,
     "metadata": {},
     "output_type": "execute_result"
    }
   ],
   "source": [
    "#checking the model score on training data\n",
    "score_train = log_model.score(X_train, y_train)\n",
    "score_train"
   ]
  },
  {
   "cell_type": "code",
   "execution_count": 186,
   "id": "035643dd-f689-426d-8ef8-884429b6f3d1",
   "metadata": {},
   "outputs": [
    {
     "data": {
      "text/plain": [
       "0.9878640776699029"
      ]
     },
     "execution_count": 186,
     "metadata": {},
     "output_type": "execute_result"
    }
   ],
   "source": [
    "#checking the model score on test data\n",
    "score_test = log_model.score(X_test, y_test)\n",
    "score_test"
   ]
  },
  {
   "cell_type": "markdown",
   "id": "cee8862d-53e8-4249-9032-5c4c85e1d6e8",
   "metadata": {},
   "source": [
    "# **Predictions**\n"
   ]
  },
  {
   "cell_type": "code",
   "execution_count": 188,
   "id": "e4d7b42d-b0fd-4ee5-903a-14263bca4a0e",
   "metadata": {},
   "outputs": [
    {
     "data": {
      "text/plain": [
       "array(['2', '2', '1', '2', '1'], dtype=object)"
      ]
     },
     "execution_count": 188,
     "metadata": {},
     "output_type": "execute_result"
    }
   ],
   "source": [
    "#predict on training data\n",
    "y_train_pred = log_model.predict(X_train)\n",
    "y_train_pred[:5]"
   ]
  },
  {
   "cell_type": "code",
   "execution_count": 189,
   "id": "1128df64-25f9-4672-9ed5-b9db46f88290",
   "metadata": {},
   "outputs": [
    {
     "data": {
      "text/plain": [
       "array(['1', '1', '1', '1', '1'], dtype=object)"
      ]
     },
     "execution_count": 189,
     "metadata": {},
     "output_type": "execute_result"
    }
   ],
   "source": [
    "#predict pn test data\n",
    "y_test_pred = log_model.predict(X_test)\n",
    "y_test_pred[:5]"
   ]
  },
  {
   "cell_type": "markdown",
   "id": "a1b6040c-e62c-4e00-9dd1-85953e7ffb52",
   "metadata": {},
   "source": [
    "## **Model Evaluation**"
   ]
  },
  {
   "cell_type": "code",
   "execution_count": 191,
   "id": "12510c2a-ab9d-45cb-91c2-67ca50d83f35",
   "metadata": {},
   "outputs": [
    {
     "name": "stdout",
     "output_type": "stream",
     "text": [
      "MAE is 0.012135922330097087\n",
      "r2score is 0.9508435344930442\n",
      "accuracy score is 0.9878640776699029\n",
      "\n",
      "              precision    recall  f1-score   support\n",
      "\n",
      "           1       0.99      0.99      0.99       229\n",
      "           2       0.98      0.99      0.99       183\n",
      "\n",
      "    accuracy                           0.99       412\n",
      "   macro avg       0.99      0.99      0.99       412\n",
      "weighted avg       0.99      0.99      0.99       412\n",
      "\n"
     ]
    }
   ],
   "source": [
    "# find the mae, r2_score, accuracy score and classification report\n",
    "mae = mean_absolute_error(y_test, y_test_pred)\n",
    "r2 = r2_score(y_test, y_test_pred)\n",
    "accuracyscore = accuracy_score(y_test, y_test_pred)\n",
    "class_report = classification_report(y_test, y_test_pred)\n",
    "\n",
    "print('MAE is', mae)\n",
    "print('r2score is', r2)\n",
    "print('accuracy score is', accuracyscore)\n",
    "print()\n",
    "print(class_report)\n"
   ]
  },
  {
   "cell_type": "markdown",
   "id": "6195a3cb-5ceb-4449-9c08-941b64f1638a",
   "metadata": {},
   "source": [
    "## **Confusion Matrix**"
   ]
  },
  {
   "cell_type": "code",
   "execution_count": 314,
   "id": "c6a45c37-79c5-44cc-bc63-57972b997b4a",
   "metadata": {},
   "outputs": [
    {
     "data": {
      "text/plain": [
       "array([[226,   3],\n",
       "       [  2, 181]], dtype=int64)"
      ]
     },
     "execution_count": 314,
     "metadata": {},
     "output_type": "execute_result"
    }
   ],
   "source": [
    "#confusion matrix for the outcome\n",
    "confusion_matrx = confusion_matrix(y_test, y_test_pred)\n",
    "confusion_matrx"
   ]
  },
  {
   "cell_type": "code",
   "execution_count": 318,
   "id": "7777eb68-828e-4c00-b8f0-c1c2675f01fe",
   "metadata": {},
   "outputs": [
    {
     "data": {
      "text/plain": [
       "<Axes: >"
      ]
     },
     "execution_count": 318,
     "metadata": {},
     "output_type": "execute_result"
    },
    {
     "data": {
      "image/png": "[encoded data removed]",
      "text/plain": [
       "<Figure size 1200x800 with 2 Axes>"
      ]
     },
     "metadata": {},
     "output_type": "display_data"
    }
   ],
   "source": [
    "# a confusion matrix heatmap\n",
    "sns.heatmap(confusion_matrx)"
   ]
  },
  {
   "cell_type": "markdown",
   "id": "2628c321-d26e-409e-a2eb-cb590f3f5f38",
   "metadata": {},
   "source": [
    "## **Feature Importance**"
   ]
  },
  {
   "cell_type": "code",
   "execution_count": 193,
   "id": "12b3224e-8e62-4338-9ff0-c92cd0c5e8e4",
   "metadata": {},
   "outputs": [
    {
     "data": {
      "text/plain": [
       "array([[-3.09539479, -1.74854572, -2.11058743, -0.07508766]])"
      ]
     },
     "execution_count": 193,
     "metadata": {},
     "output_type": "execute_result"
    }
   ],
   "source": [
    "#extract feature importances\n",
    "feat_imp = log_model.coef_\n",
    "feat_imp"
   ]
  },
  {
   "cell_type": "code",
   "execution_count": 194,
   "id": "451a2558-f27a-40d7-b5f0-6197922fe84a",
   "metadata": {},
   "outputs": [
    {
     "data": {
      "text/html": [
       "<div>\n",
       "<style scoped>\n",
       "    .dataframe tbody tr th:only-of-type {\n",
       "        vertical-align: middle;\n",
       "    }\n",
       "\n",
       "    .dataframe tbody tr th {\n",
       "        vertical-align: top;\n",
       "    }\n",
       "\n",
       "    .dataframe thead th {\n",
       "        text-align: right;\n",
       "    }\n",
       "</style>\n",
       "<table border=\"1\" class=\"dataframe\">\n",
       "  <thead>\n",
       "    <tr style=\"text-align: right;\">\n",
       "      <th></th>\n",
       "      <th>feature</th>\n",
       "      <th>importance</th>\n",
       "    </tr>\n",
       "  </thead>\n",
       "  <tbody>\n",
       "    <tr>\n",
       "      <th>3</th>\n",
       "      <td>V4</td>\n",
       "      <td>-0.075088</td>\n",
       "    </tr>\n",
       "    <tr>\n",
       "      <th>1</th>\n",
       "      <td>V2</td>\n",
       "      <td>-1.748546</td>\n",
       "    </tr>\n",
       "    <tr>\n",
       "      <th>2</th>\n",
       "      <td>V3</td>\n",
       "      <td>-2.110587</td>\n",
       "    </tr>\n",
       "    <tr>\n",
       "      <th>0</th>\n",
       "      <td>V1</td>\n",
       "      <td>-3.095395</td>\n",
       "    </tr>\n",
       "  </tbody>\n",
       "</table>\n",
       "</div>"
      ],
      "text/plain": [
       "  feature  importance\n",
       "3      V4   -0.075088\n",
       "1      V2   -1.748546\n",
       "2      V3   -2.110587\n",
       "0      V1   -3.095395"
      ]
     },
     "execution_count": 194,
     "metadata": {},
     "output_type": "execute_result"
    }
   ],
   "source": [
    "#create a Data frame of  feature importances\n",
    "feature_importances = pd.DataFrame({'feature': X_train.columns, 'importance':log_model.coef_[0]}).sort_values('importance', ascending  = False)\n",
    "feature_importances"
   ]
  },
  {
   "cell_type": "markdown",
   "id": "6971e48a-9067-406f-8939-30f97728baf0",
   "metadata": {},
   "source": [
    "## **Model Interpretation**"
   ]
  },
  {
   "cell_type": "code",
   "execution_count": 196,
   "id": "e45c6c41-0956-45c5-afab-46323a526f05",
   "metadata": {},
   "outputs": [
    {
     "name": "stdout",
     "output_type": "stream",
     "text": [
      "Coefficients [[-3.09539479 -1.74854572 -2.11058743 -0.07508766]]\n",
      "\n",
      "Intercept [3.37971149]\n"
     ]
    }
   ],
   "source": [
    "#extracting coefficients and intercept\n",
    "coefficients = log_model.coef_\n",
    "intercept = log_model.intercept_\n",
    "print('Coefficients', coefficients)\n",
    "print()\n",
    "print('Intercept',intercept)"
   ]
  },
  {
   "cell_type": "code",
   "execution_count": 197,
   "id": "72ea14c5-01cf-4be6-a2cd-f13824670977",
   "metadata": {},
   "outputs": [
    {
     "name": "stdout",
     "output_type": "stream",
     "text": [
      "Odds_ratio [[0.04525714 0.17402684 0.12116677 0.92766216]]\n"
     ]
    }
   ],
   "source": [
    "#calculating the odds\n",
    "odds_ratio = np.exp(log_model.coef_)\n",
    "print(\"Odds_ratio\", odds_ratio)"
   ]
  },
  {
   "cell_type": "markdown",
   "id": "bd256b81-82b1-48a9-a138-2260d2d27826",
   "metadata": {},
   "source": [
    "## **Model Deployment**"
   ]
  },
  {
   "cell_type": "code",
   "execution_count": null,
   "id": "338506e9-b0df-4b9e-a694-6a64378e587b",
   "metadata": {},
   "outputs": [],
   "source": [
    "#Load new data\n",
    "new_df = pd.read_csv('new_file.csv')\n",
    "\n",
    "# predict on new data\n",
    "predictions = log_model.predict(new_data_test)\n",
    "\n",
    "#Save predictions to a file\n",
    "np.savetxt('predictions.txt', predictions, fmt = %d)\n"
   ]
  },
  {
   "cell_type": "markdown",
   "id": "a21aa7d2-af5d-46cb-a2b0-1f76ba8852d6",
   "metadata": {},
   "source": [
    "**Thank you, comments and improvements to this project are most welcome**"
   ]
  },
  {
   "cell_type": "markdown",
   "id": "45ec9d9e-8941-479b-b6b0-8c280c21b37c",
   "metadata": {},
   "source": []
  }
 ],
 "metadata": {
  "kernelspec": {
   "display_name": "Python 3 (ipykernel)",
   "language": "python",
   "name": "python3"
  },
  "language_info": {
   "codemirror_mode": {
    "name": "ipython",
    "version": 3
   },
   "file_extension": ".py",
   "mimetype": "text/x-python",
   "name": "python",
   "nbconvert_exporter": "python",
   "pygments_lexer": "ipython3",
   "version": "3.11.7"
  }
 },
 "nbformat": 4,
 "nbformat_minor": 5
}
